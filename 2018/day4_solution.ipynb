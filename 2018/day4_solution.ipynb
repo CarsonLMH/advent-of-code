{
 "cells": [
  {
   "cell_type": "code",
   "execution_count": 104,
   "metadata": {},
   "outputs": [],
   "source": [
    "import re\n",
    "import datetime\n",
    "from collections import Counter, defaultdict"
   ]
  },
  {
   "cell_type": "code",
   "execution_count": 14,
   "metadata": {},
   "outputs": [],
   "source": [
    "with open('day4_input.txt', 'r') as file:\n",
    "    data = file.read().splitlines()\n",
    "    data = sorted(data)"
   ]
  },
  {
   "cell_type": "code",
   "execution_count": 16,
   "metadata": {},
   "outputs": [
    {
     "data": {
      "text/plain": [
       "['[1518-01-19 00:03] Guard #1021 begins shift',\n",
       " '[1518-01-19 00:19] falls asleep',\n",
       " '[1518-01-19 00:55] wakes up',\n",
       " '[1518-01-20 00:00] Guard #331 begins shift',\n",
       " '[1518-01-20 00:18] falls asleep']"
      ]
     },
     "execution_count": 16,
     "metadata": {},
     "output_type": "execute_result"
    }
   ],
   "source": [
    "data[:5]"
   ]
  },
  {
   "cell_type": "code",
   "execution_count": 135,
   "metadata": {},
   "outputs": [],
   "source": [
    "def parse_timetable(data):\n",
    "    parse = lambda string: list(map(int, re.findall(r'\\d+', string)))\n",
    "    parse_dt = lambda string: datetime.datetime(*parse(string))\n",
    "\n",
    "    slept = defaultdict(Counter)\n",
    "    start, end = None, None\n",
    "    for record in data:\n",
    "        if 'begins shift' in record:\n",
    "            *date, guardid = parse(record)\n",
    "\n",
    "        elif 'falls asleep' in record:\n",
    "            start = parse_dt(record)\n",
    "\n",
    "        elif 'wakes up' in record:\n",
    "            end = parse_dt(record)\n",
    "\n",
    "        if start and end:\n",
    "            minutes = Counter(i for i in range(start.minute, end.minute))\n",
    "            slept[guardid] += minutes\n",
    "            start, end = None, None\n",
    "\n",
    "    return slept"
   ]
  },
  {
   "cell_type": "code",
   "execution_count": 160,
   "metadata": {},
   "outputs": [],
   "source": [
    "def solution1(data):\n",
    "    \n",
    "    slept = parse_timetable(data)\n",
    "    \n",
    "    minutes_slept = [(key, sum(val.values())) for key, val in slept.items()]\n",
    "    \n",
    "    sleepy_guard, total_mins = max(minutes_slept, key=lambda x: x[1])\n",
    "    \n",
    "    most_common_minute, occurence = slept[sleepy_guard].most_common(1)[0]\n",
    "    \n",
    "    return sleepy_guard * most_common_minute"
   ]
  },
  {
   "cell_type": "code",
   "execution_count": 161,
   "metadata": {},
   "outputs": [
    {
     "name": "stdout",
     "output_type": "stream",
     "text": [
      "8.73 ms ± 117 µs per loop (mean ± std. dev. of 7 runs, 100 loops each)\n"
     ]
    }
   ],
   "source": [
    "%%timeit\n",
    "solution1(data)"
   ]
  },
  {
   "cell_type": "code",
   "execution_count": 162,
   "metadata": {},
   "outputs": [
    {
     "data": {
      "text/plain": [
       "19830"
      ]
     },
     "execution_count": 162,
     "metadata": {},
     "output_type": "execute_result"
    }
   ],
   "source": [
    "solution1(data)"
   ]
  },
  {
   "cell_type": "code",
   "execution_count": 175,
   "metadata": {},
   "outputs": [],
   "source": [
    "def solution2(data):\n",
    "    slept = parse_timetable(data)\n",
    "\n",
    "    slept_flattened = []\n",
    "    for guardid, mins_count in slept.items():\n",
    "        for minute, count in mins_count.items():\n",
    "            slept_flattened.append((guardid, minute, count))\n",
    "\n",
    "    guardid, minute, count = max(group, key=lambda x: x[2])\n",
    "    \n",
    "    return guardid * minute"
   ]
  },
  {
   "cell_type": "code",
   "execution_count": 176,
   "metadata": {},
   "outputs": [
    {
     "name": "stdout",
     "output_type": "stream",
     "text": [
      "8.84 ms ± 60 µs per loop (mean ± std. dev. of 7 runs, 100 loops each)\n"
     ]
    }
   ],
   "source": [
    "%%timeit\n",
    "solution2(data)"
   ]
  },
  {
   "cell_type": "code",
   "execution_count": 177,
   "metadata": {},
   "outputs": [
    {
     "data": {
      "text/plain": [
       "43695"
      ]
     },
     "execution_count": 177,
     "metadata": {},
     "output_type": "execute_result"
    }
   ],
   "source": [
    "solution2(data)"
   ]
  }
 ],
 "metadata": {
  "kernelspec": {
   "display_name": "Python 3",
   "language": "python",
   "name": "python3"
  },
  "language_info": {
   "codemirror_mode": {
    "name": "ipython",
    "version": 3
   },
   "file_extension": ".py",
   "mimetype": "text/x-python",
   "name": "python",
   "nbconvert_exporter": "python",
   "pygments_lexer": "ipython3",
   "version": "3.6.7"
  }
 },
 "nbformat": 4,
 "nbformat_minor": 2
}

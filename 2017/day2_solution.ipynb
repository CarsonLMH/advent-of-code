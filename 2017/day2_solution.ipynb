{
 "cells": [
  {
   "cell_type": "code",
   "execution_count": 27,
   "metadata": {},
   "outputs": [],
   "source": [
    "import itertools\n",
    "import pandas as pd"
   ]
  },
  {
   "cell_type": "code",
   "execution_count": 84,
   "metadata": {},
   "outputs": [
    {
     "data": {
      "text/html": [
       "<div>\n",
       "<style scoped>\n",
       "    .dataframe tbody tr th:only-of-type {\n",
       "        vertical-align: middle;\n",
       "    }\n",
       "\n",
       "    .dataframe tbody tr th {\n",
       "        vertical-align: top;\n",
       "    }\n",
       "\n",
       "    .dataframe thead th {\n",
       "        text-align: right;\n",
       "    }\n",
       "</style>\n",
       "<table border=\"1\" class=\"dataframe\">\n",
       "  <thead>\n",
       "    <tr style=\"text-align: right;\">\n",
       "      <th></th>\n",
       "      <th>0</th>\n",
       "      <th>1</th>\n",
       "      <th>2</th>\n",
       "      <th>3</th>\n",
       "      <th>4</th>\n",
       "      <th>5</th>\n",
       "      <th>6</th>\n",
       "      <th>7</th>\n",
       "      <th>8</th>\n",
       "      <th>9</th>\n",
       "      <th>10</th>\n",
       "      <th>11</th>\n",
       "      <th>12</th>\n",
       "      <th>13</th>\n",
       "      <th>14</th>\n",
       "      <th>15</th>\n",
       "    </tr>\n",
       "  </thead>\n",
       "  <tbody>\n",
       "    <tr>\n",
       "      <th>0</th>\n",
       "      <td>4347</td>\n",
       "      <td>3350</td>\n",
       "      <td>196</td>\n",
       "      <td>162</td>\n",
       "      <td>233</td>\n",
       "      <td>4932</td>\n",
       "      <td>4419</td>\n",
       "      <td>3485</td>\n",
       "      <td>4509</td>\n",
       "      <td>4287</td>\n",
       "      <td>4433</td>\n",
       "      <td>4033</td>\n",
       "      <td>207</td>\n",
       "      <td>3682</td>\n",
       "      <td>2193</td>\n",
       "      <td>4223</td>\n",
       "    </tr>\n",
       "    <tr>\n",
       "      <th>1</th>\n",
       "      <td>648</td>\n",
       "      <td>94</td>\n",
       "      <td>778</td>\n",
       "      <td>957</td>\n",
       "      <td>1634</td>\n",
       "      <td>2885</td>\n",
       "      <td>1964</td>\n",
       "      <td>2929</td>\n",
       "      <td>2754</td>\n",
       "      <td>89</td>\n",
       "      <td>972</td>\n",
       "      <td>112</td>\n",
       "      <td>80</td>\n",
       "      <td>2819</td>\n",
       "      <td>543</td>\n",
       "      <td>2820</td>\n",
       "    </tr>\n",
       "    <tr>\n",
       "      <th>2</th>\n",
       "      <td>400</td>\n",
       "      <td>133</td>\n",
       "      <td>1010</td>\n",
       "      <td>918</td>\n",
       "      <td>1154</td>\n",
       "      <td>1008</td>\n",
       "      <td>126</td>\n",
       "      <td>150</td>\n",
       "      <td>1118</td>\n",
       "      <td>117</td>\n",
       "      <td>148</td>\n",
       "      <td>463</td>\n",
       "      <td>141</td>\n",
       "      <td>940</td>\n",
       "      <td>1101</td>\n",
       "      <td>89</td>\n",
       "    </tr>\n",
       "    <tr>\n",
       "      <th>3</th>\n",
       "      <td>596</td>\n",
       "      <td>527</td>\n",
       "      <td>224</td>\n",
       "      <td>382</td>\n",
       "      <td>511</td>\n",
       "      <td>565</td>\n",
       "      <td>284</td>\n",
       "      <td>121</td>\n",
       "      <td>643</td>\n",
       "      <td>139</td>\n",
       "      <td>625</td>\n",
       "      <td>335</td>\n",
       "      <td>657</td>\n",
       "      <td>134</td>\n",
       "      <td>125</td>\n",
       "      <td>152</td>\n",
       "    </tr>\n",
       "    <tr>\n",
       "      <th>4</th>\n",
       "      <td>2069</td>\n",
       "      <td>1183</td>\n",
       "      <td>233</td>\n",
       "      <td>213</td>\n",
       "      <td>2192</td>\n",
       "      <td>193</td>\n",
       "      <td>2222</td>\n",
       "      <td>2130</td>\n",
       "      <td>2073</td>\n",
       "      <td>2262</td>\n",
       "      <td>1969</td>\n",
       "      <td>2159</td>\n",
       "      <td>2149</td>\n",
       "      <td>410</td>\n",
       "      <td>181</td>\n",
       "      <td>1924</td>\n",
       "    </tr>\n",
       "  </tbody>\n",
       "</table>\n",
       "</div>"
      ],
      "text/plain": [
       "     0     1     2    3     4     5     6     7     8     9     10    11  \\\n",
       "0  4347  3350   196  162   233  4932  4419  3485  4509  4287  4433  4033   \n",
       "1   648    94   778  957  1634  2885  1964  2929  2754    89   972   112   \n",
       "2   400   133  1010  918  1154  1008   126   150  1118   117   148   463   \n",
       "3   596   527   224  382   511   565   284   121   643   139   625   335   \n",
       "4  2069  1183   233  213  2192   193  2222  2130  2073  2262  1969  2159   \n",
       "\n",
       "     12    13    14    15  \n",
       "0   207  3682  2193  4223  \n",
       "1    80  2819   543  2820  \n",
       "2   141   940  1101    89  \n",
       "3   657   134   125   152  \n",
       "4  2149   410   181  1924  "
      ]
     },
     "execution_count": 84,
     "metadata": {},
     "output_type": "execute_result"
    }
   ],
   "source": [
    "df = pd.read_csv('day2_input.txt', sep='\\t', header=None)\n",
    "df.head()"
   ]
  },
  {
   "cell_type": "code",
   "execution_count": 79,
   "metadata": {},
   "outputs": [],
   "source": [
    "def solution1(df):  \n",
    "    return df.apply(lambda x: max(x) - min(x), axis=1).sum()"
   ]
  },
  {
   "cell_type": "code",
   "execution_count": 80,
   "metadata": {},
   "outputs": [
    {
     "data": {
      "text/plain": [
       "47136"
      ]
     },
     "execution_count": 80,
     "metadata": {},
     "output_type": "execute_result"
    }
   ],
   "source": [
    "solution1(df)"
   ]
  },
  {
   "cell_type": "code",
   "execution_count": 85,
   "metadata": {},
   "outputs": [],
   "source": [
    "def checksum(array):\n",
    "    groups = itertools.combinations(array, 2)\n",
    "    return sum(((max(val) // min(val)) for val in groups if (max(val) % min(val) == 0)))\n",
    "\n",
    "def solution2(df):\n",
    "    return df.apply(checksum, axis=1).sum()"
   ]
  },
  {
   "cell_type": "code",
   "execution_count": 86,
   "metadata": {},
   "outputs": [
    {
     "data": {
      "text/plain": [
       "250"
      ]
     },
     "execution_count": 86,
     "metadata": {},
     "output_type": "execute_result"
    }
   ],
   "source": [
    "solution2(df)"
   ]
  }
 ],
 "metadata": {
  "kernelspec": {
   "display_name": "Python 3",
   "language": "python",
   "name": "python3"
  },
  "language_info": {
   "codemirror_mode": {
    "name": "ipython",
    "version": 3
   },
   "file_extension": ".py",
   "mimetype": "text/x-python",
   "name": "python",
   "nbconvert_exporter": "python",
   "pygments_lexer": "ipython3",
   "version": "3.6.7"
  }
 },
 "nbformat": 4,
 "nbformat_minor": 2
}
